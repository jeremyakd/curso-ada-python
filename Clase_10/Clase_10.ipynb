{
 "cells": [
  {
   "cell_type": "code",
   "execution_count": 9,
   "metadata": {},
   "outputs": [],
   "source": [
    "class Perro:\n",
    "    # Atributo de clase\n",
    "    especie = 'mamifero'\n",
    "    patas = 4\n",
    "\n",
    "    # El método __init__ es llamado al crear el objeto \n",
    "    def __init__(self, nombre, raza):\n",
    "        print(\"Cree un perro de raza {}, llamado {}.\".format(raza, nombre))\n",
    "        # Atributo de instancia u objeto\n",
    "        self.nombre = nombre\n",
    "        self.raza = raza\n",
    "\n",
    "    def __str__(self):\n",
    "        return \"{} de raza {}.\".format(self.nombre, self.raza)\n",
    "\n",
    "    def ladrar(self):\n",
    "        print(\"guau !!\")"
   ]
  },
  {
   "cell_type": "code",
   "execution_count": 12,
   "metadata": {},
   "outputs": [
    {
     "name": "stdout",
     "output_type": "stream",
     "text": [
      "Cree un perro de raza Cooker, llamado Firulais.\n"
     ]
    }
   ],
   "source": [
    "objeto_perro = Perro('Firulais', 'Cooker')"
   ]
  },
  {
   "cell_type": "code",
   "execution_count": 13,
   "metadata": {},
   "outputs": [
    {
     "data": {
      "text/plain": [
       "<__main__.Perro at 0x7fbb5c1af310>"
      ]
     },
     "execution_count": 13,
     "metadata": {},
     "output_type": "execute_result"
    }
   ],
   "source": [
    "objeto_perro"
   ]
  },
  {
   "cell_type": "code",
   "execution_count": 14,
   "metadata": {},
   "outputs": [
    {
     "name": "stdout",
     "output_type": "stream",
     "text": [
      "Cree un perro de raza Callejero, llamado Fatiga.\n"
     ]
    }
   ],
   "source": [
    "perro_2 = Perro('Fatiga', 'Callejero')"
   ]
  },
  {
   "cell_type": "code",
   "execution_count": 16,
   "metadata": {},
   "outputs": [
    {
     "name": "stdout",
     "output_type": "stream",
     "text": [
      "Fatiga de raza Callejero.\n"
     ]
    }
   ],
   "source": [
    "print(perro_2)"
   ]
  },
  {
   "cell_type": "code",
   "execution_count": 17,
   "metadata": {},
   "outputs": [
    {
     "name": "stdout",
     "output_type": "stream",
     "text": [
      "Firulais de raza Cooker.\n"
     ]
    }
   ],
   "source": [
    "print(objeto_perro)"
   ]
  },
  {
   "cell_type": "code",
   "execution_count": 8,
   "metadata": {},
   "outputs": [
    {
     "data": {
      "text/plain": [
       "['__class__',\n",
       " '__delattr__',\n",
       " '__dict__',\n",
       " '__dir__',\n",
       " '__doc__',\n",
       " '__eq__',\n",
       " '__format__',\n",
       " '__ge__',\n",
       " '__getattribute__',\n",
       " '__gt__',\n",
       " '__hash__',\n",
       " '__init__',\n",
       " '__init_subclass__',\n",
       " '__le__',\n",
       " '__lt__',\n",
       " '__module__',\n",
       " '__ne__',\n",
       " '__new__',\n",
       " '__reduce__',\n",
       " '__reduce_ex__',\n",
       " '__repr__',\n",
       " '__setattr__',\n",
       " '__sizeof__',\n",
       " '__str__',\n",
       " '__subclasshook__',\n",
       " '__weakref__',\n",
       " 'especie',\n",
       " 'ladrar',\n",
       " 'nombre',\n",
       " 'patas',\n",
       " 'raza']"
      ]
     },
     "execution_count": 8,
     "metadata": {},
     "output_type": "execute_result"
    }
   ],
   "source": [
    "dir(perro_2)\n",
    "# double underscode"
   ]
  },
  {
   "cell_type": "code",
   "execution_count": 37,
   "metadata": {},
   "outputs": [],
   "source": [
    "# SUPERCLASE\n",
    "class Persona(object):\n",
    "    def __init__(self, identificacion, nombre, apellido):\n",
    "        self.identificacion = identificacion\n",
    "        self.nombre = nombre\n",
    "        self.apellido = apellido\n",
    "    \n",
    "    def __str__(self):\n",
    "        return \"{}: {} {}\".format( str(self.identificacion), self.nombre, self.apellido)\n",
    "\n",
    "class AlumnaADA(Persona):\n",
    "    def __init__(self, identificacion, nombre, apellido, usuario):\n",
    "        Persona.__init__(self, identificacion, nombre, apellido)\n",
    "        self.usuario = usuario\n",
    "\n",
    "class ProfeADA(Persona):\n",
    "    def __init__(self, identificacion, nombre, apellido, usuario, curso):\n",
    "        super().__init__(self, identificacion, nombre, apellido)\n",
    "        self.usuario = usuario\n",
    "        self.curso = curso\n",
    "\n",
    "    def __str__(self):\n",
    "        return super().__str__() +  \" {} {}\".format( self.usuario, self.curso)\n"
   ]
  },
  {
   "cell_type": "code",
   "execution_count": 27,
   "metadata": {},
   "outputs": [],
   "source": [
    "profe = ProfeADA(321654987, 'Jeremias', 'Caceres', 'jeremyakd', 'Intro Python')"
   ]
  },
  {
   "cell_type": "code",
   "execution_count": 46,
   "metadata": {},
   "outputs": [
    {
     "name": "stdout",
     "output_type": "stream",
     "text": [
      "321654987: Jeremias Caceres jeremyakd Java\n"
     ]
    },
    {
     "data": {
      "text/plain": [
       "'Java'"
      ]
     },
     "execution_count": 46,
     "metadata": {},
     "output_type": "execute_result"
    }
   ],
   "source": [
    "print(profe)\n",
    "profe.curso"
   ]
  },
  {
   "cell_type": "code",
   "execution_count": 45,
   "metadata": {},
   "outputs": [],
   "source": [
    "profe.curso = 'Java'"
   ]
  },
  {
   "cell_type": "code",
   "execution_count": 41,
   "metadata": {},
   "outputs": [],
   "source": [
    "alumne = AlumnaADA(987654321, 'Clarissa', 'Gómez', 'Clarisa_kpa')"
   ]
  },
  {
   "cell_type": "code",
   "execution_count": 42,
   "metadata": {},
   "outputs": [
    {
     "name": "stdout",
     "output_type": "stream",
     "text": [
      "987654321: Clarissa Gómez\n"
     ]
    },
    {
     "data": {
      "text/plain": [
       "'Gómez'"
      ]
     },
     "execution_count": 42,
     "metadata": {},
     "output_type": "execute_result"
    }
   ],
   "source": [
    "print(alumne)\n",
    "alumne.apellido"
   ]
  },
  {
   "cell_type": "code",
   "execution_count": null,
   "metadata": {},
   "outputs": [],
   "source": [
    "class Motor():\n",
    "    def __init__(self, cc, hp):\n",
    "        self.cc = cc\n",
    "        self.hp = hp\n",
    "\n",
    "class Coche():\n",
    "    def __init__(self, marca, vel_max, motor):\n",
    "        self.marca = marca\n",
    "        self.vel_max = vel_max\n",
    "        self.motor = motor\n",
    "\n",
    "_4000_cc = Motor(400, 370)\n",
    "_6000_cc = Motor(800, 670)\n",
    "\n",
    "nissan = Coche('Nissan', 300, _4000_cc)\n",
    "ford = Coche('Focus', 250, _4000_cc)\n",
    "\n",
    "f_360 = Coche('Ferrari', 600, _6000_cc)\n"
   ]
  },
  {
   "cell_type": "code",
   "execution_count": 43,
   "metadata": {},
   "outputs": [
    {
     "name": "stdout",
     "output_type": "stream",
     "text": [
      "666\n",
      "3333\n",
      "[3, 56, 'Pepe', True]\n",
      "{'uno': 1, 'dos': 2}\n"
     ]
    }
   ],
   "source": [
    "def funcion_algo(primero, segundo, *args, **kwargs):\n",
    "    print(primero)\n",
    "    print(segundo)\n",
    "    for arg in args:\n",
    "        print(arg)\n",
    "\n",
    "    for kw in kwargs:\n",
    "        print(kwargs[kw], kw)\n",
    "\n",
    "\n",
    "l = [3, 56, 'Pepe', True]\n",
    "k = {'uno': 1, 'dos':2}\n",
    "\n",
    "funcion_algo(666, 3333, l, k)"
   ]
  }
 ],
 "metadata": {
  "kernelspec": {
   "display_name": "Python 3.9.2 64-bit",
   "language": "python",
   "name": "python3"
  },
  "language_info": {
   "codemirror_mode": {
    "name": "ipython",
    "version": 3
   },
   "file_extension": ".py",
   "mimetype": "text/x-python",
   "name": "python",
   "nbconvert_exporter": "python",
   "pygments_lexer": "ipython3",
   "version": "3.9.2"
  },
  "orig_nbformat": 4,
  "vscode": {
   "interpreter": {
    "hash": "31f2aee4e71d21fbe5cf8b01ff0e069b9275f58929596ceb00d14d90e3e16cd6"
   }
  }
 },
 "nbformat": 4,
 "nbformat_minor": 2
}
