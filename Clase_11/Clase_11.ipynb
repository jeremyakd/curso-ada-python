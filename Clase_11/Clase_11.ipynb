{
 "cells": [
  {
   "cell_type": "code",
   "execution_count": 2,
   "metadata": {},
   "outputs": [
    {
     "name": "stdout",
     "output_type": "stream",
     "text": [
      "Érase una vez en un lugar de la Mancha,\n",
      "\n"
     ]
    }
   ],
   "source": [
    "archivo = open(\"archivo.txt\")\n",
    "\n",
    "linea = archivo.readline()\n",
    "\n",
    "print(linea)"
   ]
  },
  {
   "cell_type": "code",
   "execution_count": 3,
   "metadata": {},
   "outputs": [
    {
     "name": "stdout",
     "output_type": "stream",
     "text": [
      "cuyo nombre no me quiero acordar, \n",
      "\n",
      "un hombre llamado don Quijote, \n",
      "\n",
      "que estaba fascinando con los caballeros andantes de la España antigua. \n",
      "\n",
      "A Don Quijote le encantaba a leer los libros sobre sus aventuras y vendió una parte de su tierra para comprar más libros sobre caballería.\n"
     ]
    }
   ],
   "source": [
    "linea = archivo.readline()\n",
    "\n",
    "while linea != '':\n",
    "    print(linea)\n",
    "    linea = archivo.readline()"
   ]
  }
 ],
 "metadata": {
  "kernelspec": {
   "display_name": "Python 3.9.2 64-bit",
   "language": "python",
   "name": "python3"
  },
  "language_info": {
   "codemirror_mode": {
    "name": "ipython",
    "version": 3
   },
   "file_extension": ".py",
   "mimetype": "text/x-python",
   "name": "python",
   "nbconvert_exporter": "python",
   "pygments_lexer": "ipython3",
   "version": "3.9.2"
  },
  "orig_nbformat": 4,
  "vscode": {
   "interpreter": {
    "hash": "31f2aee4e71d21fbe5cf8b01ff0e069b9275f58929596ceb00d14d90e3e16cd6"
   }
  }
 },
 "nbformat": 4,
 "nbformat_minor": 2
}
