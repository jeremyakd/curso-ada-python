{
 "cells": [
  {
   "cell_type": "markdown",
   "metadata": {},
   "source": [
    "## Herencia"
   ]
  },
  {
   "cell_type": "code",
   "execution_count": 1,
   "metadata": {},
   "outputs": [],
   "source": [
    "class Animal: # darth vader\n",
    "    pass\n",
    "\n",
    "class Perro(Animal): # luke skywalker\n",
    "    pass\n",
    "\n",
    "class Gato(Animal): # leia ogana\n",
    "    pass"
   ]
  },
  {
   "cell_type": "code",
   "execution_count": 2,
   "metadata": {},
   "outputs": [
    {
     "data": {
      "text/plain": [
       "(__main__.Animal,)"
      ]
     },
     "execution_count": 2,
     "metadata": {},
     "output_type": "execute_result"
    }
   ],
   "source": [
    "Perro.__bases__"
   ]
  },
  {
   "cell_type": "code",
   "execution_count": 3,
   "metadata": {},
   "outputs": [
    {
     "data": {
      "text/plain": [
       "[__main__.Perro]"
      ]
     },
     "execution_count": 3,
     "metadata": {},
     "output_type": "execute_result"
    }
   ],
   "source": [
    "Animal.__subclasses__()"
   ]
  },
  {
   "cell_type": "code",
   "execution_count": null,
   "metadata": {},
   "outputs": [],
   "source": [
    "class Perro:\n",
    "    especie = 'mamifero'\n",
    "\n",
    "    def __init__(self, nombre, raza):\n",
    "        print(\"Cree un perro de raza {}, llamado {}.\".format(raza, nombre))\n",
    "        self.nombre = nombre\n",
    "        self.raza = raza\n"
   ]
  },
  {
   "cell_type": "code",
   "execution_count": 13,
   "metadata": {},
   "outputs": [],
   "source": [
    "class Animal:\n",
    "    def __init__(self, especie, edad):\n",
    "        self.especie = especie\n",
    "        self.edad = edad\n",
    "\n",
    "    def hablar(self):\n",
    "        pass\n",
    "\n",
    "    def moverse(self):\n",
    "        pass\n",
    "\n",
    "    def describime(self):\n",
    "        print(\"Soy un animal de tipo\",  type(self).__name__) "
   ]
  },
  {
   "cell_type": "code",
   "execution_count": 23,
   "metadata": {},
   "outputs": [],
   "source": [
    "class Perro(Animal):\n",
    "    def __init__(self, especie, edad, dueno):\n",
    "        # Caso 1\n",
    "        #self.especie = especie\n",
    "        #self.edad = edad\n",
    "        #self.dueno = dueno\n",
    "\n",
    "        # Caso 2 llamando al constructor de la clase padre\n",
    "        super().__init__(especie, edad)\n",
    "        self.dueno = dueno\n",
    "\n",
    "\n",
    "    def hablar(self):\n",
    "        print(\"Guau\")\n",
    "    def moverse(self):\n",
    "        print(\"Caminando en 4 patas\")\n",
    "\n",
    "class Gato(Animal):\n",
    "    def hablar(self):\n",
    "        print(\"Miau\")\n",
    "    def moverse(self):\n",
    "        print(\"Caminando en 4 patas\")\n",
    "\n",
    "class Abeja(Animal):\n",
    "    def hablar(self):\n",
    "        print(\"Bzzzzzzz\")\n",
    "    def moverse(self):\n",
    "        print(\"Volando\")\n",
    "    def picar(self):\n",
    "        print(\"Te piqué\")"
   ]
  },
  {
   "cell_type": "code",
   "execution_count": 25,
   "metadata": {},
   "outputs": [],
   "source": [
    "perro_1 = Perro('mamifero', 10, 'Jeremy')"
   ]
  },
  {
   "cell_type": "code",
   "execution_count": 29,
   "metadata": {},
   "outputs": [
    {
     "name": "stdout",
     "output_type": "stream",
     "text": [
      "Soy un animal de tipo Perro\n"
     ]
    }
   ],
   "source": [
    "perro_1.describime()"
   ]
  },
  {
   "cell_type": "code",
   "execution_count": 14,
   "metadata": {},
   "outputs": [
    {
     "name": "stdout",
     "output_type": "stream",
     "text": [
      "Soy un animal de tipo  Perro\n"
     ]
    }
   ],
   "source": [
    "perro_1.describime()"
   ]
  },
  {
   "cell_type": "code",
   "execution_count": 16,
   "metadata": {},
   "outputs": [],
   "source": [
    "perro = Perro('mamifero', 10)\n",
    "gato = Gato('mamifero', 1)\n",
    "abeja = Abeja('insecto', 1)"
   ]
  },
  {
   "cell_type": "code",
   "execution_count": 22,
   "metadata": {},
   "outputs": [
    {
     "ename": "AttributeError",
     "evalue": "'Gato' object has no attribute 'picar'",
     "output_type": "error",
     "traceback": [
      "\u001b[0;31m---------------------------------------------------------------------------\u001b[0m",
      "\u001b[0;31mAttributeError\u001b[0m                            Traceback (most recent call last)",
      "\u001b[1;32m/home/jeremias/ADA CURSO/Clase_9/Clase_6_B_.ipynb Cell 11\u001b[0m in \u001b[0;36m<cell line: 1>\u001b[0;34m()\u001b[0m\n\u001b[0;32m----> <a href='vscode-notebook-cell:/home/jeremias/ADA%20CURSO/Clase_9/Clase_6_B_.ipynb#X26sZmlsZQ%3D%3D?line=0'>1</a>\u001b[0m gato\u001b[39m.\u001b[39;49mpicar()\n",
      "\u001b[0;31mAttributeError\u001b[0m: 'Gato' object has no attribute 'picar'"
     ]
    }
   ],
   "source": [
    "gato.picar()"
   ]
  }
 ],
 "metadata": {
  "kernelspec": {
   "display_name": "Python 3.9.2 64-bit",
   "language": "python",
   "name": "python3"
  },
  "language_info": {
   "codemirror_mode": {
    "name": "ipython",
    "version": 3
   },
   "file_extension": ".py",
   "mimetype": "text/x-python",
   "name": "python",
   "nbconvert_exporter": "python",
   "pygments_lexer": "ipython3",
   "version": "3.9.2"
  },
  "orig_nbformat": 4,
  "vscode": {
   "interpreter": {
    "hash": "31f2aee4e71d21fbe5cf8b01ff0e069b9275f58929596ceb00d14d90e3e16cd6"
   }
  }
 },
 "nbformat": 4,
 "nbformat_minor": 2
}
