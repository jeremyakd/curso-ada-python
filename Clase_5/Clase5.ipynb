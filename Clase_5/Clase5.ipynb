{
 "cells": [
  {
   "cell_type": "markdown",
   "metadata": {},
   "source": [
    "#### Python = Lenguaje de programacion\n",
    "#### Interprete de Python = Para programar\n",
    "#### Programa = Algo, está en Python y ejecutado.\n",
    "\n",
    "\n",
    "#### Visual Studio Code = Herramienta para (codear)\n",
    "#### Jupyter Notebook = Herramienta para (codear)\n",
    "#### JPycharm = Herramienta para (codear)\n"
   ]
  },
  {
   "cell_type": "code",
   "execution_count": 3,
   "metadata": {},
   "outputs": [],
   "source": [
    "# print recibe un parametro (puede ser una cadena de texto) y lo manda a la consola."
   ]
  },
  {
   "cell_type": "code",
   "execution_count": 10,
   "metadata": {},
   "outputs": [],
   "source": [
    "# Argumento, parametro"
   ]
  },
  {
   "cell_type": "code",
   "execution_count": 4,
   "metadata": {},
   "outputs": [
    {
     "name": "stdout",
     "output_type": "stream",
     "text": [
      "Hola mundo\n"
     ]
    }
   ],
   "source": [
    "print('Hola mundo')"
   ]
  },
  {
   "cell_type": "markdown",
   "metadata": {},
   "source": [
    "1. sumar(a, b)\n",
    "\n",
    "Crear una función sumar que tome como argumentos dos números y devuelva la suma de ellos"
   ]
  },
  {
   "cell_type": "code",
   "execution_count": 23,
   "metadata": {},
   "outputs": [],
   "source": [
    "# Definimos una funcion que recibe 2 argumentos.\n",
    "def suma_2_numeros(b,c):\n",
    "    # devolvemos la suma de ambos parametros.\n",
    "    return b + c"
   ]
  },
  {
   "cell_type": "code",
   "execution_count": 12,
   "metadata": {},
   "outputs": [
    {
     "ename": "TypeError",
     "evalue": "unsupported operand type(s) for +: 'int' and 'str'",
     "output_type": "error",
     "traceback": [
      "\u001b[0;31m---------------------------------------------------------------------------\u001b[0m",
      "\u001b[0;31mTypeError\u001b[0m                                 Traceback (most recent call last)",
      "Input \u001b[0;32mIn [12]\u001b[0m, in \u001b[0;36m<cell line: 1>\u001b[0;34m()\u001b[0m\n\u001b[0;32m----> 1\u001b[0m \u001b[43msuma_2_numeros\u001b[49m\u001b[43m(\u001b[49m\u001b[38;5;241;43m5\u001b[39;49m\u001b[43m,\u001b[49m\u001b[43m \u001b[49m\u001b[38;5;124;43m'\u001b[39;49m\u001b[38;5;124;43mhola\u001b[39;49m\u001b[38;5;124;43m'\u001b[39;49m\u001b[43m)\u001b[49m\n",
      "Input \u001b[0;32mIn [7]\u001b[0m, in \u001b[0;36msuma_2_numeros\u001b[0;34m(b, c)\u001b[0m\n\u001b[1;32m      1\u001b[0m \u001b[38;5;28;01mdef\u001b[39;00m \u001b[38;5;21msuma_2_numeros\u001b[39m(b,c):\n\u001b[0;32m----> 2\u001b[0m     \u001b[38;5;28;01mreturn\u001b[39;00m \u001b[43mb\u001b[49m\u001b[43m \u001b[49m\u001b[38;5;241;43m+\u001b[39;49m\u001b[43m \u001b[49m\u001b[43mc\u001b[49m\n",
      "\u001b[0;31mTypeError\u001b[0m: unsupported operand type(s) for +: 'int' and 'str'"
     ]
    }
   ],
   "source": [
    "suma_2_numeros(5, 'hola')"
   ]
  },
  {
   "cell_type": "code",
   "execution_count": 25,
   "metadata": {},
   "outputs": [
    {
     "name": "stdout",
     "output_type": "stream",
     "text": [
      "5\n",
      "4.6\n",
      "-2\n"
     ]
    }
   ],
   "source": [
    "print(suma_2_numeros(2, 3)) # 5\n",
    "print(suma_2_numeros(1.2, 3.4)) # 4.6\n",
    "print(suma_2_numeros(3, -5)) # -2"
   ]
  },
  {
   "cell_type": "code",
   "execution_count": null,
   "metadata": {},
   "outputs": [],
   "source": [
    "None"
   ]
  },
  {
   "cell_type": "code",
   "execution_count": 19,
   "metadata": {},
   "outputs": [],
   "source": [
    "def suma_2_numeros_sin_retorno(b,c):\n",
    "    print(b + c)\n"
   ]
  },
  {
   "cell_type": "code",
   "execution_count": 26,
   "metadata": {},
   "outputs": [
    {
     "name": "stdout",
     "output_type": "stream",
     "text": [
      "5\n"
     ]
    }
   ],
   "source": [
    "retorno_de_funcion = suma_2_numeros_sin_retorno(2, 3)"
   ]
  },
  {
   "cell_type": "code",
   "execution_count": 22,
   "metadata": {},
   "outputs": [
    {
     "name": "stdout",
     "output_type": "stream",
     "text": [
      "None\n"
     ]
    }
   ],
   "source": [
    "print(retorno_de_funcion)"
   ]
  },
  {
   "cell_type": "markdown",
   "metadata": {},
   "source": [
    "es_par(numero)\n",
    "\n",
    "Crear una función es_par que tome como argumento un número y devuelva True si dicho números es par o False si no lo es\n",
    "\n",
    "TIP: un número es par si divido por 2 el resto (o módulo) de esa operación es 0"
   ]
  },
  {
   "cell_type": "code",
   "execution_count": 29,
   "metadata": {},
   "outputs": [],
   "source": [
    "def es_par(numero):\n",
    "    modulo = numero % 2\n",
    "    if modulo == 0:\n",
    "        return True\n",
    "    else:\n",
    "        return False"
   ]
  },
  {
   "cell_type": "code",
   "execution_count": 30,
   "metadata": {},
   "outputs": [
    {
     "name": "stdout",
     "output_type": "stream",
     "text": [
      "True\n",
      "False\n"
     ]
    }
   ],
   "source": [
    "print(es_par(2)) # True\n",
    "print(es_par(3)) # False"
   ]
  },
  {
   "cell_type": "markdown",
   "metadata": {},
   "source": [
    "### es_impar(numero)\n",
    "\n",
    "Crear una función es_impar que tome como argumento un número y devuelva True si dicho números es impar o False si no lo es\n",
    "\n",
    "TIP: un número es impar si divido por 2 el resto (o módulo) de esa operación no es 0"
   ]
  },
  {
   "cell_type": "code",
   "execution_count": 42,
   "metadata": {},
   "outputs": [],
   "source": [
    "def es_impar_hard(numero):\n",
    "    return bool(numero % 2)\n",
    "\n",
    "def es_impar_easy(numero):\n",
    "    modulo = numero % 2\n",
    "    if modulo:\n",
    "        return True\n",
    "    else:\n",
    "        return False"
   ]
  },
  {
   "cell_type": "code",
   "execution_count": 43,
   "metadata": {},
   "outputs": [
    {
     "name": "stdout",
     "output_type": "stream",
     "text": [
      "False\n",
      "True\n"
     ]
    }
   ],
   "source": [
    "print(es_impar_hard(2)) # False\n",
    "print(es_impar_hard(3)) # True"
   ]
  },
  {
   "cell_type": "code",
   "execution_count": 44,
   "metadata": {},
   "outputs": [
    {
     "name": "stdout",
     "output_type": "stream",
     "text": [
      "False\n",
      "True\n"
     ]
    }
   ],
   "source": [
    "print(es_impar_easy(2)) # False\n",
    "print(es_impar_easy(3)) # True"
   ]
  },
  {
   "cell_type": "code",
   "execution_count": null,
   "metadata": {},
   "outputs": [],
   "source": [
    "def es_impar(numero):\n",
    "    if modulo % 2 == 0:\n",
    "        return True\n",
    "    else:\n",
    "        return False "
   ]
  },
  {
   "cell_type": "markdown",
   "metadata": {},
   "source": [
    "escribo una funcion, 2 parametros, base y altura\n",
    "base * altura / 2\n"
   ]
  },
  {
   "cell_type": "code",
   "execution_count": 46,
   "metadata": {},
   "outputs": [],
   "source": [
    "def calcular_area_triangulo(base, altura):\n",
    "    base_altura = base * altura\n",
    "    area = base_altura / 2\n",
    "    return area"
   ]
  },
  {
   "cell_type": "code",
   "execution_count": 47,
   "metadata": {},
   "outputs": [
    {
     "name": "stdout",
     "output_type": "stream",
     "text": [
      "6.0\n",
      "15.0\n"
     ]
    }
   ],
   "source": [
    "print(calcular_area_triangulo(3, 4)) # 6\n",
    "print(calcular_area_triangulo(5, 6)) # 40"
   ]
  },
  {
   "cell_type": "code",
   "execution_count": 50,
   "metadata": {},
   "outputs": [],
   "source": [
    "def es_mayor_de_edad(edad):\n",
    "    if edad >= 18:\n",
    "        return True\n",
    "    else:\n",
    "        return False"
   ]
  },
  {
   "cell_type": "code",
   "execution_count": 51,
   "metadata": {},
   "outputs": [
    {
     "name": "stdout",
     "output_type": "stream",
     "text": [
      "False\n",
      "True\n",
      "True\n"
     ]
    }
   ],
   "source": [
    "print(es_mayor_de_edad(15)) # False\n",
    "print(es_mayor_de_edad(18)) # True\n",
    "print(es_mayor_de_edad(27)) # True"
   ]
  },
  {
   "cell_type": "markdown",
   "metadata": {},
   "source": [
    "### obtener_datos_de_ciudad(nombre, poblacion, pais)\n",
    "\n",
    "Crear una función obtener_datos_de_ciudad que tome como argumentos un string nombre, un número poblacion y un string pais y devuelva string con el siguiente formato: \n",
    "\n",
    "La ciudad de NOMBRE tiene una población de POBLACION habitantes y está ubicada en PAIS"
   ]
  },
  {
   "cell_type": "code",
   "execution_count": 52,
   "metadata": {},
   "outputs": [],
   "source": [
    "def obtener_datos_de_ciudad(nombre, poblacion, pais):\n",
    "    return 'La ciudad de {} tiene una población de {} habitantes y está ubicada en {}'.format(nombre, poblacion, pais)\n",
    "    "
   ]
  },
  {
   "cell_type": "code",
   "execution_count": 53,
   "metadata": {},
   "outputs": [
    {
     "name": "stdout",
     "output_type": "stream",
     "text": [
      "La ciudad de Santa Fe tiene una población de 545606 habitantes y está ubicada en Argentina\n"
     ]
    }
   ],
   "source": [
    "print(obtener_datos_de_ciudad('Santa Fe', 545606, 'Argentina'))\n",
    " \n",
    "# 'La ciudad de Santa Fe tiene una población de 545606 habitantes y está ubicada en Argentina'\n"
   ]
  },
  {
   "cell_type": "markdown",
   "metadata": {},
   "source": [
    "convertir_horas_en_segundos(horas)\n",
    "\n",
    "Crear una función convertir_horas_en_segundos que tome como argumento un número de horas y devuelva la conversión a segundos de dicha cantidad de horas"
   ]
  },
  {
   "cell_type": "code",
   "execution_count": 58,
   "metadata": {},
   "outputs": [],
   "source": [
    "\"\"\"\n",
    "def convertir_horas_en_segundos(horas):\n",
    "    minutos = horas * 60 # paso las horas a minutos\n",
    "    segundos = minutos * 60\n",
    "    return segundos\n",
    "\"\"\"\n",
    "\n",
    "def convertir_horas_en_segundos(horas):\n",
    "    return int((horas * 60) * 60)"
   ]
  },
  {
   "cell_type": "code",
   "execution_count": 59,
   "metadata": {},
   "outputs": [
    {
     "name": "stdout",
     "output_type": "stream",
     "text": [
      "3600\n",
      "10800\n",
      "16200\n"
     ]
    }
   ],
   "source": [
    "print(convertir_horas_en_segundos(1)) # 3600\n",
    "print(convertir_horas_en_segundos(3)) # 10800\n",
    "print(convertir_horas_en_segundos(4.5)) # 16200"
   ]
  },
  {
   "cell_type": "code",
   "execution_count": 63,
   "metadata": {},
   "outputs": [
    {
     "name": "stdout",
     "output_type": "stream",
     "text": [
      "Manzana\n",
      "Pera\n",
      "Kiwi\n",
      "Fruta : Manzana en la vuelta 1\n",
      "Fruta : Pera en la vuelta 2\n",
      "Fruta : Kiwi en la vuelta 3\n"
     ]
    }
   ],
   "source": [
    "# for con enumerate\n",
    "\n",
    "lista_frutas = ['Manzana', 'Pera', 'Kiwi']\n",
    "\n",
    "for fruta in lista_frutas:\n",
    "    print(fruta)\n",
    "    \n",
    "for vuelta, fruta in enumerate(lista_frutas):\n",
    "    print(\"Fruta : {} en la vuelta {}\".format(fruta, vuelta + 1))\n",
    "\n",
    "for i in range(0, 10):\n",
    "    pass"
   ]
  },
  {
   "cell_type": "code",
   "execution_count": null,
   "metadata": {},
   "outputs": [],
   "source": [
    "def range(inicio, final, cada_cuanto):\n",
    "    return vuelta\n",
    "\n",
    "def enumerate(iterable):\n",
    "    # hace magia\n",
    "    return elemento, vuelta"
   ]
  },
  {
   "cell_type": "code",
   "execution_count": 65,
   "metadata": {},
   "outputs": [
    {
     "name": "stdout",
     "output_type": "stream",
     "text": [
      "Fruta : Manzana te la recibo.\n",
      "Fruta : Pera te la recibo.\n",
      "Fruta : Kiwi te la recibo.\n"
     ]
    }
   ],
   "source": [
    "lista_frutas = ['Manzana', 'Pera', 'Kiwi', 'Banana', 'Naranja']\n",
    "\n",
    "def cuantas_frutas_recibo(lista_de_frutas):\n",
    "    # enumerate nos permite contar las vueltas del bucle\n",
    "    for vuelta, fruta in enumerate(lista_frutas):\n",
    "        print(\"Fruta : {} te la recibo.\".format(fruta))\n",
    "        if vuelta == 2:\n",
    "            break"
   ]
  },
  {
   "cell_type": "code",
   "execution_count": 66,
   "metadata": {},
   "outputs": [
    {
     "name": "stdout",
     "output_type": "stream",
     "text": [
      "arranco a esperar\n",
      "termino de esperar\n"
     ]
    }
   ],
   "source": [
    "# Módulos: from, import\n",
    "    \n",
    "import time\n",
    "\n",
    "print(\"arranco a esperar\")\n",
    "\n",
    "time.sleep(2)\n",
    "\n",
    "print(\"termino de esperar\")"
   ]
  },
  {
   "cell_type": "code",
   "execution_count": 67,
   "metadata": {},
   "outputs": [],
   "source": [
    "consulta = \"le pego a la API\""
   ]
  },
  {
   "cell_type": "code",
   "execution_count": 68,
   "metadata": {},
   "outputs": [
    {
     "name": "stdout",
     "output_type": "stream",
     "text": [
      "arranco a esperar\n",
      "termino de esperar\n"
     ]
    }
   ],
   "source": [
    "from time import sleep\n",
    "\n",
    "print(\"arranco a esperar\")\n",
    "\n",
    "sleep(2)\n",
    "\n",
    "print(\"termino de esperar\")"
   ]
  }
 ],
 "metadata": {
  "kernelspec": {
   "display_name": "Python 3 (ipykernel)",
   "language": "python",
   "name": "python3"
  },
  "language_info": {
   "codemirror_mode": {
    "name": "ipython",
    "version": 3
   },
   "file_extension": ".py",
   "mimetype": "text/x-python",
   "name": "python",
   "nbconvert_exporter": "python",
   "pygments_lexer": "ipython3",
   "version": "3.9.2"
  },
  "vscode": {
   "interpreter": {
    "hash": "916dbcbb3f70747c44a77c7bcd40155683ae19c65e1c03b4aa3499c5328201f1"
   }
  }
 },
 "nbformat": 4,
 "nbformat_minor": 2
}
