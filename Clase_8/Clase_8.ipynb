{
 "cells": [
  {
   "cell_type": "code",
   "execution_count": 3,
   "metadata": {},
   "outputs": [
    {
     "name": "stdout",
     "output_type": "stream",
     "text": [
      "<class 'datetime.date'>\n",
      "2022-08-03\n"
     ]
    }
   ],
   "source": [
    "import datetime\n",
    "\n",
    "# Objeto datetime\n",
    "\n",
    "ayer = datetime.date(2022, 8, 3)\n",
    "print(type(ayer))\n",
    "print(ayer)\n",
    "\n",
    "# hoy_hc = '2022-08-24' + '15'\n"
   ]
  },
  {
   "cell_type": "code",
   "execution_count": 5,
   "metadata": {},
   "outputs": [
    {
     "data": {
      "text/plain": [
       "datetime.date(2022, 8, 3)"
      ]
     },
     "execution_count": 5,
     "metadata": {},
     "output_type": "execute_result"
    }
   ],
   "source": [
    "hoy_datetime = datetime.date.today()\n",
    "hoy_datetime.replace(day=3)\n",
    "\n",
    "'DRY'"
   ]
  },
  {
   "cell_type": "code",
   "execution_count": 9,
   "metadata": {},
   "outputs": [
    {
     "name": "stdout",
     "output_type": "stream",
     "text": [
      "2022-08-04\n",
      "2022-09-13\n"
     ]
    }
   ],
   "source": [
    "from datetime import date\n",
    "\n",
    "hoy_date = date.today()\n",
    "\n",
    "print(hoy_date)\n",
    "\n",
    "mi_cumple = date(hoy_date.year, 9, 13)\n",
    "\n",
    "print(mi_cumple)"
   ]
  },
  {
   "cell_type": "code",
   "execution_count": 16,
   "metadata": {},
   "outputs": [
    {
     "name": "stdout",
     "output_type": "stream",
     "text": [
      "40 days, 0:00:00\n",
      "<class 'datetime.timedelta'>\n"
     ]
    }
   ],
   "source": [
    "cuanto_falta = mi_cumple - hoy_date\n",
    "# datetime.timedelta\n",
    "print(cuanto_falta)\n",
    "\n",
    "print(type(cuanto_falta))\n"
   ]
  },
  {
   "cell_type": "code",
   "execution_count": 17,
   "metadata": {},
   "outputs": [
    {
     "data": {
      "text/plain": [
       "datetime.datetime(2022, 8, 4, 21, 42, 29, 593555)"
      ]
     },
     "execution_count": 17,
     "metadata": {},
     "output_type": "execute_result"
    }
   ],
   "source": [
    "today = datetime.datetime.now()\n",
    "\n",
    "today"
   ]
  },
  {
   "cell_type": "code",
   "execution_count": 21,
   "metadata": {},
   "outputs": [
    {
     "name": "stdout",
     "output_type": "stream",
     "text": [
      "Hoy es: 4-8-2022, son las 21:42\n"
     ]
    }
   ],
   "source": [
    "print('Hoy es: {}-{}-{}, son las {}:{}'.format(today.day, today.month, today.year, today.hour, today.minute))"
   ]
  },
  {
   "cell_type": "code",
   "execution_count": 29,
   "metadata": {},
   "outputs": [
    {
     "name": "stdout",
     "output_type": "stream",
     "text": [
      "<class 'datetime.date'>\n",
      "<class 'datetime.time'>\n"
     ]
    }
   ],
   "source": [
    "\n",
    "dias = today.date()\n",
    "print(type(dias))\n",
    "\n",
    "horas = today.time()\n",
    "print(type(horas))"
   ]
  },
  {
   "cell_type": "code",
   "execution_count": 28,
   "metadata": {},
   "outputs": [
    {
     "name": "stdout",
     "output_type": "stream",
     "text": [
      "08:30:00\n",
      "<class 'datetime.time'>\n"
     ]
    }
   ],
   "source": [
    "horas_now = datetime.time(8, 30)\n",
    "print(horas_now)\n",
    "print(type(horas_now))\n"
   ]
  },
  {
   "cell_type": "code",
   "execution_count": 31,
   "metadata": {},
   "outputs": [
    {
     "data": {
      "text/plain": [
       "30"
      ]
     },
     "execution_count": 31,
     "metadata": {},
     "output_type": "execute_result"
    }
   ],
   "source": [
    "horas_now.hour\n",
    "horas_now.minute\n",
    "\n",
    "name = 'Jeremias' # <str> (sting)\n",
    "age = 37 # <int> (integer)\n",
    "today = datetime.datetime.now() # <datetime.datetime>"
   ]
  },
  {
   "cell_type": "code",
   "execution_count": 37,
   "metadata": {},
   "outputs": [
    {
     "data": {
      "text/plain": [
       "'03 de August del 2022 a las 09:00'"
      ]
     },
     "execution_count": 37,
     "metadata": {},
     "output_type": "execute_result"
    }
   ],
   "source": [
    "dia_x = datetime.datetime(2022, 8, 3, 9, 00)\n",
    "\n",
    "dia_formateado = dia_x.strftime('%d de %B del %Y a las %H:%M')\n",
    "\n",
    "dia_formateado\n",
    "# 03/08/2022\n",
    "# pycharm"
   ]
  },
  {
   "cell_type": "markdown",
   "metadata": {},
   "source": []
  }
 ],
 "metadata": {
  "kernelspec": {
   "display_name": "Python 3.9.2 64-bit",
   "language": "python",
   "name": "python3"
  },
  "language_info": {
   "codemirror_mode": {
    "name": "ipython",
    "version": 3
   },
   "file_extension": ".py",
   "mimetype": "text/x-python",
   "name": "python",
   "nbconvert_exporter": "python",
   "pygments_lexer": "ipython3",
   "version": "3.9.2"
  },
  "orig_nbformat": 4,
  "vscode": {
   "interpreter": {
    "hash": "916dbcbb3f70747c44a77c7bcd40155683ae19c65e1c03b4aa3499c5328201f1"
   }
  }
 },
 "nbformat": 4,
 "nbformat_minor": 2
}
