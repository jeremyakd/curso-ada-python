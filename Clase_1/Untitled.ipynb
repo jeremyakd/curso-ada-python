{
 "cells": [
  {
   "cell_type": "code",
   "execution_count": 1,
   "id": "20e3524e",
   "metadata": {},
   "outputs": [
    {
     "name": "stdout",
     "output_type": "stream",
     "text": [
      "Ingrese los segundos3602\n",
      "1.1434920634920636\n",
      "0.01905820105820106\n"
     ]
    }
   ],
   "source": [
    "segundos_user = int (input('Ingrese los segundos'))\n",
    "segundos_a_horas = segundos_user / 3600\n",
    "segundos_a_minutos = segundos_a_horas / 60\n",
    "modulo_1 = segundos_a_horas / 7\n",
    "modulo_2 = segundos_a_minutos / 7\n",
    "resultado_primero = modulo_1 + segundos_a_horas\n",
    "resultado_segundo = modulo_2 + segundos_a_minutos\n",
    "print(resultado_primero)\n",
    "print(resultado_segundo)"
   ]
  },
  {
   "cell_type": "code",
   "execution_count": null,
   "id": "a5e98a90",
   "metadata": {},
   "outputs": [],
   "source": [
    "segundos_user = int (input('Ingrese los segundos'))\n",
    "\n",
    "# declaro variables para usarlas despues\n",
    "minutos = None\n",
    "segundos = None\n",
    "# acá obtenes las horas\n",
    "horas = segundos_user / 3600\n",
    "\n",
    "# necesito saber el resto para calcular minutos\n",
    "resto_de_segundos = segundos_user % 3600\n",
    "\n",
    "# Si alcanzan a hacer un minuto o mas los divido\n",
    "# Y obtengo los minutos\n",
    "if resto_de_segundos >= 60:\n",
    "    minutos = resto_de_segundos / 60\n",
    "    segundos = \n",
    "\n",
    "\"\"\"\n",
    "segundos_a_minutos = segundos_a_horas / 60\n",
    "\n",
    "modulo_1 = segundos_a_horas / 7\n",
    "modulo_2 = segundos_a_minutos / 7\n",
    "resultado_primero = modulo_1 + segundos_a_horas\n",
    "resultado_segundo = modulo_2 + segundos_a_minutos\n",
    "print(resultado_primero)\n",
    "print(resultado_segundo)\n",
    "\"\"\"\n",
    "mensaje = str(segundos_user) + 'segundos = '\n",
    "if horas > 0:\n",
    "    mensaje += str(horas) + ' '\n",
    "\n",
    "if minutos > 0:\n",
    "    mensaje += str(minutos) + ' '\n",
    "    \n",
    "mensaje += \n",
    "\n",
    "print(\"{} segundos = {} hora\",format(segundos_user, ))\n",
    "\n"
   ]
  }
 ],
 "metadata": {
  "kernelspec": {
   "display_name": "Python 3 (ipykernel)",
   "language": "python",
   "name": "python3"
  },
  "language_info": {
   "codemirror_mode": {
    "name": "ipython",
    "version": 3
   },
   "file_extension": ".py",
   "mimetype": "text/x-python",
   "name": "python",
   "nbconvert_exporter": "python",
   "pygments_lexer": "ipython3",
   "version": "3.9.2"
  }
 },
 "nbformat": 4,
 "nbformat_minor": 5
}
