{
 "cells": [
  {
   "cell_type": "code",
   "execution_count": 2,
   "metadata": {},
   "outputs": [
    {
     "name": "stdout",
     "output_type": "stream",
     "text": [
      "algo\n",
      "the day Monday is a 1° of the week\n",
      "algo\n",
      "the day Tuesday is a 2° of the week\n",
      "algo\n",
      "the day Wednesday is a 3° of the week\n",
      "algo\n",
      "the day Thursday is a 4° of the week\n",
      "algo\n",
      "the day Friday is a 5° of the week\n",
      "Monday\n",
      "Tuesday\n",
      "Wednesday\n",
      "Thursday\n",
      "Friday\n"
     ]
    }
   ],
   "source": [
    "# enumerate\n",
    "\n",
    "days = ['Monday', 'Tuesday', 'Wednesday', 'Thursday', 'Friday']\n",
    "\n",
    "#for index, element in enumerate(days):\n",
    "    #print(\"the day {} is a {}° of the week\".format(element, index+1))\n",
    "    #print()\n",
    "    #print()\n",
    "\n",
    "count = 0\n",
    "for e in days:\n",
    "    count += 1\n",
    "    print(\"algo\")\n",
    "    print(\"the day {} is a {}° of the week\".format(e, count))\n",
    "    #print()\n",
    "    #print()\n",
    "\n",
    "for i in range(0, len(days)):\n",
    "#for i in range(0,5)\n",
    "    print(days[i])\n"
   ]
  },
  {
   "cell_type": "code",
   "execution_count": 11,
   "metadata": {},
   "outputs": [
    {
     "ename": "KeyError",
     "evalue": "'nombre'",
     "output_type": "error",
     "traceback": [
      "\u001b[0;31m---------------------------------------------------------------------------\u001b[0m",
      "\u001b[0;31mKeyError\u001b[0m                                  Traceback (most recent call last)",
      "\u001b[1;32m/home/jeremias/ADA CURSO/Clase_17.ipynb Cell 2\u001b[0m in \u001b[0;36m<cell line: 8>\u001b[0;34m()\u001b[0m\n\u001b[1;32m      <a href='vscode-notebook-cell:/home/jeremias/ADA%20CURSO/Clase_17.ipynb#W1sZmlsZQ%3D%3D?line=0'>1</a>\u001b[0m data \u001b[39m=\u001b[39m {\n\u001b[1;32m      <a href='vscode-notebook-cell:/home/jeremias/ADA%20CURSO/Clase_17.ipynb#W1sZmlsZQ%3D%3D?line=1'>2</a>\u001b[0m     \u001b[39m'\u001b[39m\u001b[39mname\u001b[39m\u001b[39m'\u001b[39m: \u001b[39m'\u001b[39m\u001b[39mjeremias\u001b[39m\u001b[39m'\u001b[39m,\n\u001b[1;32m      <a href='vscode-notebook-cell:/home/jeremias/ADA%20CURSO/Clase_17.ipynb#W1sZmlsZQ%3D%3D?line=2'>3</a>\u001b[0m     \u001b[39m'\u001b[39m\u001b[39mlast_name\u001b[39m\u001b[39m'\u001b[39m:\u001b[39m'\u001b[39m\u001b[39mcaceres\u001b[39m\u001b[39m'\u001b[39m,\n\u001b[1;32m      <a href='vscode-notebook-cell:/home/jeremias/ADA%20CURSO/Clase_17.ipynb#W1sZmlsZQ%3D%3D?line=3'>4</a>\u001b[0m     \u001b[39m'\u001b[39m\u001b[39mage\u001b[39m\u001b[39m'\u001b[39m: \u001b[39m37\u001b[39m\n\u001b[1;32m      <a href='vscode-notebook-cell:/home/jeremias/ADA%20CURSO/Clase_17.ipynb#W1sZmlsZQ%3D%3D?line=4'>5</a>\u001b[0m }\n\u001b[0;32m----> <a href='vscode-notebook-cell:/home/jeremias/ADA%20CURSO/Clase_17.ipynb#W1sZmlsZQ%3D%3D?line=7'>8</a>\u001b[0m nombre \u001b[39m=\u001b[39m data[\u001b[39m'\u001b[39;49m\u001b[39mnombre\u001b[39;49m\u001b[39m'\u001b[39;49m]\n\u001b[1;32m      <a href='vscode-notebook-cell:/home/jeremias/ADA%20CURSO/Clase_17.ipynb#W1sZmlsZQ%3D%3D?line=8'>9</a>\u001b[0m \u001b[39m#nombre = data.get('nombre', False)\u001b[39;00m\n\u001b[1;32m     <a href='vscode-notebook-cell:/home/jeremias/ADA%20CURSO/Clase_17.ipynb#W1sZmlsZQ%3D%3D?line=10'>11</a>\u001b[0m \u001b[39mprint\u001b[39m(nombre)\n",
      "\u001b[0;31mKeyError\u001b[0m: 'nombre'"
     ]
    }
   ],
   "source": [
    "data = {\n",
    "    'name': 'jeremias',\n",
    "    'last_name':'caceres',\n",
    "    'age': 37\n",
    "}\n",
    "\n",
    "\n",
    "#nombre = data['nombre']\n",
    "nombre = data.get('nombre', False)\n",
    "\n",
    "print(nombre)"
   ]
  }
 ],
 "metadata": {
  "kernelspec": {
   "display_name": "Python 3.9.2 64-bit",
   "language": "python",
   "name": "python3"
  },
  "language_info": {
   "codemirror_mode": {
    "name": "ipython",
    "version": 3
   },
   "file_extension": ".py",
   "mimetype": "text/x-python",
   "name": "python",
   "nbconvert_exporter": "python",
   "pygments_lexer": "ipython3",
   "version": "3.9.2"
  },
  "orig_nbformat": 4,
  "vscode": {
   "interpreter": {
    "hash": "31f2aee4e71d21fbe5cf8b01ff0e069b9275f58929596ceb00d14d90e3e16cd6"
   }
  }
 },
 "nbformat": 4,
 "nbformat_minor": 2
}
