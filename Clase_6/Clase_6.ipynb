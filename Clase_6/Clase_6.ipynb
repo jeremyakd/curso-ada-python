{
 "cells": [
  {
   "cell_type": "markdown",
   "id": "b0415f67",
   "metadata": {},
   "source": [
    "### continue"
   ]
  },
  {
   "cell_type": "code",
   "execution_count": 1,
   "id": "036b7354",
   "metadata": {},
   "outputs": [],
   "source": [
    "pedido = ['Manzana', 'Pera', 'Papa', 'Kiwi', 'Banana', 'Naranja']\n"
   ]
  },
  {
   "cell_type": "code",
   "execution_count": 5,
   "id": "6d30f52c",
   "metadata": {},
   "outputs": [
    {
     "name": "stdout",
     "output_type": "stream",
     "text": [
      "Manzana\n",
      "Pera\n",
      "Papa\n",
      "Kiwi\n",
      "Banana\n",
      "Naranja\n"
     ]
    }
   ],
   "source": [
    "for elemento in pedido:\n",
    "    if 'Papa' == elemento:\n",
    "        pass\n",
    "        # break\n",
    "        # continue\n",
    "    print(elemento)"
   ]
  },
  {
   "cell_type": "code",
   "execution_count": 6,
   "id": "fec9f66d",
   "metadata": {},
   "outputs": [
    {
     "name": "stdout",
     "output_type": "stream",
     "text": [
      "1\n",
      "3\n",
      "5\n",
      "7\n",
      "9\n"
     ]
    }
   ],
   "source": [
    "for i in range(0, 11):\n",
    "    if i % 2 == 0:\n",
    "        continue\n",
    "    print(i)"
   ]
  },
  {
   "cell_type": "code",
   "execution_count": 16,
   "id": "e8ce2588",
   "metadata": {},
   "outputs": [],
   "source": [
    "pedido_iterator = iter(pedido)"
   ]
  },
  {
   "cell_type": "code",
   "execution_count": 15,
   "id": "767d6544",
   "metadata": {},
   "outputs": [
    {
     "ename": "StopIteration",
     "evalue": "",
     "output_type": "error",
     "traceback": [
      "\u001b[0;31m---------------------------------------------------------------------------\u001b[0m",
      "\u001b[0;31mStopIteration\u001b[0m                             Traceback (most recent call last)",
      "Input \u001b[0;32mIn [15]\u001b[0m, in \u001b[0;36m<cell line: 1>\u001b[0;34m()\u001b[0m\n\u001b[0;32m----> 1\u001b[0m \u001b[38;5;28;43mnext\u001b[39;49m\u001b[43m(\u001b[49m\u001b[43mpedido_iterator\u001b[49m\u001b[43m)\u001b[49m\n",
      "\u001b[0;31mStopIteration\u001b[0m: "
     ]
    }
   ],
   "source": [
    "next(pedido_iterator)\n",
    "\n",
    "# pedido = ['Manzana', ['Pera', 'Papa', 'Kiwi', 'Banana', 'Naranja']"
   ]
  },
  {
   "cell_type": "code",
   "execution_count": null,
   "id": "d9acaacb",
   "metadata": {},
   "outputs": [],
   "source": []
  }
 ],
 "metadata": {
  "kernelspec": {
   "display_name": "Python 3 (ipykernel)",
   "language": "python",
   "name": "python3"
  },
  "language_info": {
   "codemirror_mode": {
    "name": "ipython",
    "version": 3
   },
   "file_extension": ".py",
   "mimetype": "text/x-python",
   "name": "python",
   "nbconvert_exporter": "python",
   "pygments_lexer": "ipython3",
   "version": "3.9.2"
  }
 },
 "nbformat": 4,
 "nbformat_minor": 5
}
