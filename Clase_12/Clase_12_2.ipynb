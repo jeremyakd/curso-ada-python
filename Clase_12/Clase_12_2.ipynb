{
 "cells": [
  {
   "cell_type": "code",
   "execution_count": 7,
   "metadata": {},
   "outputs": [
    {
     "name": "stdout",
     "output_type": "stream",
     "text": [
      "['Érase una vez en un lugar de la Mancha,\\n', 'cuyo nombre no me quiero acordar, \\n', 'un hombre llamado don Quijote, \\n', 'que estaba fascinando con los caballeros andantes de la España antigua. \\n', 'A Don Quijote le encantaba a leer los libros sobre sus aventuras y vendió una parte de su tierra para comprar más libros sobre caballería.']\n"
     ]
    }
   ],
   "source": [
    "archivo = open(\"../Clase_11/archivo.txt\")\n",
    "\n",
    "lineas = archivo.readlines() # devuelve un lista con las lineas\n",
    "\n",
    "#for l in lineas:\n",
    "#    print(l)\n",
    "\n",
    "print(lineas)"
   ]
  },
  {
   "cell_type": "code",
   "execution_count": 12,
   "metadata": {},
   "outputs": [
    {
     "data": {
      "text/plain": [
       "'jeremyakd@gmail.com'"
      ]
     },
     "execution_count": 12,
     "metadata": {},
     "output_type": "execute_result"
    }
   ],
   "source": [
    "name = 'anama en la casa de su mamá'\n",
    "name_replaced = name.replace('á', 'a')\n",
    "name_replaced\n",
    "\n",
    "mail = 'Jeremyakd@gmail.com'\n",
    "mail_cleaned = mail.lower()\n",
    "mail_cleaned"
   ]
  },
  {
   "cell_type": "code",
   "execution_count": 15,
   "metadata": {},
   "outputs": [
    {
     "name": "stdout",
     "output_type": "stream",
     "text": [
      "Érase una vez en un lugar de la Mancha,\n",
      "\n",
      "É\n",
      "r\n",
      "a\n",
      "s\n",
      "e\n",
      " \n",
      "u\n",
      "n\n",
      "a\n",
      " \n",
      "v\n",
      "e\n",
      "z\n",
      " \n",
      "e\n",
      "n\n",
      " \n",
      "u\n",
      "n\n",
      " \n",
      "l\n",
      "u\n",
      "g\n",
      "a\n",
      "r\n",
      " \n",
      "d\n",
      "e\n",
      " \n",
      "l\n",
      "a\n",
      " \n",
      "M\n",
      "a\n",
      "n\n",
      "c\n",
      "h\n",
      "a\n",
      ",\n",
      "\n",
      "\n"
     ]
    }
   ],
   "source": [
    "archivo = open(\"../Clase_11/archivo.txt\")\n",
    "\n",
    "linea = archivo.readline() \n",
    "\n",
    "print(linea)\n",
    "\n",
    "for l in linea:\n",
    "    print(l)"
   ]
  },
  {
   "cell_type": "code",
   "execution_count": 16,
   "metadata": {},
   "outputs": [
    {
     "name": "stdout",
     "output_type": "stream",
     "text": [
      "hola\n",
      "hola\n"
     ]
    }
   ],
   "source": []
  },
  {
   "cell_type": "code",
   "execution_count": null,
   "metadata": {},
   "outputs": [],
   "source": [
    "print(f\"{contador}: {linea_sin_enter}\")\n",
    "\n",
    "print(\"{}: {}\".format(contador, linea_sin_enter))"
   ]
  },
  {
   "cell_type": "code",
   "execution_count": 17,
   "metadata": {},
   "outputs": [],
   "source": [
    "archivo = open('file.txt', 'w')"
   ]
  },
  {
   "cell_type": "code",
   "execution_count": 18,
   "metadata": {},
   "outputs": [],
   "source": [
    "archivo.write('ya me voy !!!')\n",
    "archivo.close()"
   ]
  },
  {
   "cell_type": "code",
   "execution_count": null,
   "metadata": {},
   "outputs": [],
   "source": []
  },
  {
   "cell_type": "code",
   "execution_count": null,
   "metadata": {},
   "outputs": [],
   "source": []
  },
  {
   "cell_type": "code",
   "execution_count": null,
   "metadata": {},
   "outputs": [],
   "source": []
  }
 ],
 "metadata": {
  "kernelspec": {
   "display_name": "Python 3.9.2 64-bit",
   "language": "python",
   "name": "python3"
  },
  "language_info": {
   "codemirror_mode": {
    "name": "ipython",
    "version": 3
   },
   "file_extension": ".py",
   "mimetype": "text/x-python",
   "name": "python",
   "nbconvert_exporter": "python",
   "pygments_lexer": "ipython3",
   "version": "3.9.2"
  },
  "orig_nbformat": 4,
  "vscode": {
   "interpreter": {
    "hash": "31f2aee4e71d21fbe5cf8b01ff0e069b9275f58929596ceb00d14d90e3e16cd6"
   }
  }
 },
 "nbformat": 4,
 "nbformat_minor": 2
}
